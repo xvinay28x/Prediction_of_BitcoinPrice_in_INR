{
 "cells": [
  {
   "cell_type": "markdown",
   "metadata": {},
   "source": [
    "# Prediction of Bitcoin price in INR"
   ]
  },
  {
   "cell_type": "code",
   "execution_count": 1,
   "metadata": {},
   "outputs": [],
   "source": [
    "import pandas as pd\n",
    "import numpy as np"
   ]
  },
  {
   "cell_type": "markdown",
   "metadata": {},
   "source": [
    "## Import dataset"
   ]
  },
  {
   "cell_type": "code",
   "execution_count": 2,
   "metadata": {},
   "outputs": [
    {
     "data": {
      "text/html": [
       "<div>\n",
       "<style scoped>\n",
       "    .dataframe tbody tr th:only-of-type {\n",
       "        vertical-align: middle;\n",
       "    }\n",
       "\n",
       "    .dataframe tbody tr th {\n",
       "        vertical-align: top;\n",
       "    }\n",
       "\n",
       "    .dataframe thead th {\n",
       "        text-align: right;\n",
       "    }\n",
       "</style>\n",
       "<table border=\"1\" class=\"dataframe\">\n",
       "  <thead>\n",
       "    <tr style=\"text-align: right;\">\n",
       "      <th></th>\n",
       "      <th>Date</th>\n",
       "      <th>Open</th>\n",
       "      <th>High</th>\n",
       "      <th>Low</th>\n",
       "      <th>Close</th>\n",
       "      <th>Adj Close</th>\n",
       "      <th>Volume</th>\n",
       "    </tr>\n",
       "  </thead>\n",
       "  <tbody>\n",
       "    <tr>\n",
       "      <th>0</th>\n",
       "      <td>21-01-2020</td>\n",
       "      <td>6.151218e+05</td>\n",
       "      <td>6.232312e+05</td>\n",
       "      <td>6.081990e+05</td>\n",
       "      <td>6.225328e+05</td>\n",
       "      <td>6.225328e+05</td>\n",
       "      <td>1.715250e+12</td>\n",
       "    </tr>\n",
       "    <tr>\n",
       "      <th>1</th>\n",
       "      <td>22-01-2020</td>\n",
       "      <td>6.224129e+05</td>\n",
       "      <td>6.252662e+05</td>\n",
       "      <td>6.141556e+05</td>\n",
       "      <td>6.172936e+05</td>\n",
       "      <td>6.172936e+05</td>\n",
       "      <td>1.607090e+12</td>\n",
       "    </tr>\n",
       "    <tr>\n",
       "      <th>2</th>\n",
       "      <td>23-01-2020</td>\n",
       "      <td>6.172776e+05</td>\n",
       "      <td>6.197056e+05</td>\n",
       "      <td>5.944466e+05</td>\n",
       "      <td>5.996451e+05</td>\n",
       "      <td>5.996451e+05</td>\n",
       "      <td>1.838250e+12</td>\n",
       "    </tr>\n",
       "    <tr>\n",
       "      <th>3</th>\n",
       "      <td>24-01-2020</td>\n",
       "      <td>5.995774e+05</td>\n",
       "      <td>6.073129e+05</td>\n",
       "      <td>5.896366e+05</td>\n",
       "      <td>6.023748e+05</td>\n",
       "      <td>6.023748e+05</td>\n",
       "      <td>1.740190e+12</td>\n",
       "    </tr>\n",
       "    <tr>\n",
       "      <th>4</th>\n",
       "      <td>25-01-2020</td>\n",
       "      <td>6.019958e+05</td>\n",
       "      <td>6.033034e+05</td>\n",
       "      <td>5.917320e+05</td>\n",
       "      <td>5.968409e+05</td>\n",
       "      <td>5.968409e+05</td>\n",
       "      <td>1.401360e+12</td>\n",
       "    </tr>\n",
       "    <tr>\n",
       "      <th>...</th>\n",
       "      <td>...</td>\n",
       "      <td>...</td>\n",
       "      <td>...</td>\n",
       "      <td>...</td>\n",
       "      <td>...</td>\n",
       "      <td>...</td>\n",
       "      <td>...</td>\n",
       "    </tr>\n",
       "    <tr>\n",
       "      <th>362</th>\n",
       "      <td>17-01-2021</td>\n",
       "      <td>2.644666e+06</td>\n",
       "      <td>2.686699e+06</td>\n",
       "      <td>2.492597e+06</td>\n",
       "      <td>2.617996e+06</td>\n",
       "      <td>2.617996e+06</td>\n",
       "      <td>3.829920e+12</td>\n",
       "    </tr>\n",
       "    <tr>\n",
       "      <th>363</th>\n",
       "      <td>18-01-2021</td>\n",
       "      <td>2.618066e+06</td>\n",
       "      <td>2.734263e+06</td>\n",
       "      <td>2.555848e+06</td>\n",
       "      <td>2.680935e+06</td>\n",
       "      <td>2.680935e+06</td>\n",
       "      <td>3.623730e+12</td>\n",
       "    </tr>\n",
       "    <tr>\n",
       "      <th>364</th>\n",
       "      <td>19-01-2021</td>\n",
       "      <td>2.681825e+06</td>\n",
       "      <td>2.762476e+06</td>\n",
       "      <td>2.640030e+06</td>\n",
       "      <td>2.640030e+06</td>\n",
       "      <td>2.640030e+06</td>\n",
       "      <td>4.189830e+12</td>\n",
       "    </tr>\n",
       "    <tr>\n",
       "      <th>365</th>\n",
       "      <td>NaN</td>\n",
       "      <td>NaN</td>\n",
       "      <td>NaN</td>\n",
       "      <td>NaN</td>\n",
       "      <td>NaN</td>\n",
       "      <td>NaN</td>\n",
       "      <td>NaN</td>\n",
       "    </tr>\n",
       "    <tr>\n",
       "      <th>366</th>\n",
       "      <td>NaN</td>\n",
       "      <td>NaN</td>\n",
       "      <td>NaN</td>\n",
       "      <td>NaN</td>\n",
       "      <td>NaN</td>\n",
       "      <td>NaN</td>\n",
       "      <td>NaN</td>\n",
       "    </tr>\n",
       "  </tbody>\n",
       "</table>\n",
       "<p>367 rows × 7 columns</p>\n",
       "</div>"
      ],
      "text/plain": [
       "           Date          Open          High           Low         Close  \\\n",
       "0    21-01-2020  6.151218e+05  6.232312e+05  6.081990e+05  6.225328e+05   \n",
       "1    22-01-2020  6.224129e+05  6.252662e+05  6.141556e+05  6.172936e+05   \n",
       "2    23-01-2020  6.172776e+05  6.197056e+05  5.944466e+05  5.996451e+05   \n",
       "3    24-01-2020  5.995774e+05  6.073129e+05  5.896366e+05  6.023748e+05   \n",
       "4    25-01-2020  6.019958e+05  6.033034e+05  5.917320e+05  5.968409e+05   \n",
       "..          ...           ...           ...           ...           ...   \n",
       "362  17-01-2021  2.644666e+06  2.686699e+06  2.492597e+06  2.617996e+06   \n",
       "363  18-01-2021  2.618066e+06  2.734263e+06  2.555848e+06  2.680935e+06   \n",
       "364  19-01-2021  2.681825e+06  2.762476e+06  2.640030e+06  2.640030e+06   \n",
       "365         NaN           NaN           NaN           NaN           NaN   \n",
       "366         NaN           NaN           NaN           NaN           NaN   \n",
       "\n",
       "        Adj Close        Volume  \n",
       "0    6.225328e+05  1.715250e+12  \n",
       "1    6.172936e+05  1.607090e+12  \n",
       "2    5.996451e+05  1.838250e+12  \n",
       "3    6.023748e+05  1.740190e+12  \n",
       "4    5.968409e+05  1.401360e+12  \n",
       "..            ...           ...  \n",
       "362  2.617996e+06  3.829920e+12  \n",
       "363  2.680935e+06  3.623730e+12  \n",
       "364  2.640030e+06  4.189830e+12  \n",
       "365           NaN           NaN  \n",
       "366           NaN           NaN  \n",
       "\n",
       "[367 rows x 7 columns]"
      ]
     },
     "execution_count": 2,
     "metadata": {},
     "output_type": "execute_result"
    }
   ],
   "source": [
    "df = pd.read_csv(\"BTC-INR.csv\")\n",
    "df"
   ]
  },
  {
   "cell_type": "code",
   "execution_count": 3,
   "metadata": {},
   "outputs": [
    {
     "data": {
      "text/plain": [
       "Date         2\n",
       "Open         2\n",
       "High         2\n",
       "Low          2\n",
       "Close        2\n",
       "Adj Close    2\n",
       "Volume       2\n",
       "dtype: int64"
      ]
     },
     "execution_count": 3,
     "metadata": {},
     "output_type": "execute_result"
    }
   ],
   "source": [
    "df.isnull().sum()"
   ]
  },
  {
   "cell_type": "code",
   "execution_count": 4,
   "metadata": {},
   "outputs": [
    {
     "data": {
      "text/html": [
       "<div>\n",
       "<style scoped>\n",
       "    .dataframe tbody tr th:only-of-type {\n",
       "        vertical-align: middle;\n",
       "    }\n",
       "\n",
       "    .dataframe tbody tr th {\n",
       "        vertical-align: top;\n",
       "    }\n",
       "\n",
       "    .dataframe thead th {\n",
       "        text-align: right;\n",
       "    }\n",
       "</style>\n",
       "<table border=\"1\" class=\"dataframe\">\n",
       "  <thead>\n",
       "    <tr style=\"text-align: right;\">\n",
       "      <th></th>\n",
       "      <th>Date</th>\n",
       "      <th>Open</th>\n",
       "      <th>High</th>\n",
       "      <th>Low</th>\n",
       "      <th>Close</th>\n",
       "      <th>Adj Close</th>\n",
       "      <th>Volume</th>\n",
       "    </tr>\n",
       "  </thead>\n",
       "  <tbody>\n",
       "    <tr>\n",
       "      <th>0</th>\n",
       "      <td>21-01-2020</td>\n",
       "      <td>6.151218e+05</td>\n",
       "      <td>6.232312e+05</td>\n",
       "      <td>6.081990e+05</td>\n",
       "      <td>6.225328e+05</td>\n",
       "      <td>6.225328e+05</td>\n",
       "      <td>1.715250e+12</td>\n",
       "    </tr>\n",
       "    <tr>\n",
       "      <th>1</th>\n",
       "      <td>22-01-2020</td>\n",
       "      <td>6.224129e+05</td>\n",
       "      <td>6.252662e+05</td>\n",
       "      <td>6.141556e+05</td>\n",
       "      <td>6.172936e+05</td>\n",
       "      <td>6.172936e+05</td>\n",
       "      <td>1.607090e+12</td>\n",
       "    </tr>\n",
       "    <tr>\n",
       "      <th>2</th>\n",
       "      <td>23-01-2020</td>\n",
       "      <td>6.172776e+05</td>\n",
       "      <td>6.197056e+05</td>\n",
       "      <td>5.944466e+05</td>\n",
       "      <td>5.996451e+05</td>\n",
       "      <td>5.996451e+05</td>\n",
       "      <td>1.838250e+12</td>\n",
       "    </tr>\n",
       "    <tr>\n",
       "      <th>3</th>\n",
       "      <td>24-01-2020</td>\n",
       "      <td>5.995774e+05</td>\n",
       "      <td>6.073129e+05</td>\n",
       "      <td>5.896366e+05</td>\n",
       "      <td>6.023748e+05</td>\n",
       "      <td>6.023748e+05</td>\n",
       "      <td>1.740190e+12</td>\n",
       "    </tr>\n",
       "    <tr>\n",
       "      <th>4</th>\n",
       "      <td>25-01-2020</td>\n",
       "      <td>6.019958e+05</td>\n",
       "      <td>6.033034e+05</td>\n",
       "      <td>5.917320e+05</td>\n",
       "      <td>5.968409e+05</td>\n",
       "      <td>5.968409e+05</td>\n",
       "      <td>1.401360e+12</td>\n",
       "    </tr>\n",
       "    <tr>\n",
       "      <th>...</th>\n",
       "      <td>...</td>\n",
       "      <td>...</td>\n",
       "      <td>...</td>\n",
       "      <td>...</td>\n",
       "      <td>...</td>\n",
       "      <td>...</td>\n",
       "      <td>...</td>\n",
       "    </tr>\n",
       "    <tr>\n",
       "      <th>360</th>\n",
       "      <td>15-01-2021</td>\n",
       "      <td>2.861984e+06</td>\n",
       "      <td>2.891636e+06</td>\n",
       "      <td>2.536070e+06</td>\n",
       "      <td>2.694199e+06</td>\n",
       "      <td>2.694199e+06</td>\n",
       "      <td>4.957480e+12</td>\n",
       "    </tr>\n",
       "    <tr>\n",
       "      <th>361</th>\n",
       "      <td>16-01-2021</td>\n",
       "      <td>2.693927e+06</td>\n",
       "      <td>2.770214e+06</td>\n",
       "      <td>2.605900e+06</td>\n",
       "      <td>2.645726e+06</td>\n",
       "      <td>2.645726e+06</td>\n",
       "      <td>4.220080e+12</td>\n",
       "    </tr>\n",
       "    <tr>\n",
       "      <th>362</th>\n",
       "      <td>17-01-2021</td>\n",
       "      <td>2.644666e+06</td>\n",
       "      <td>2.686699e+06</td>\n",
       "      <td>2.492597e+06</td>\n",
       "      <td>2.617996e+06</td>\n",
       "      <td>2.617996e+06</td>\n",
       "      <td>3.829920e+12</td>\n",
       "    </tr>\n",
       "    <tr>\n",
       "      <th>363</th>\n",
       "      <td>18-01-2021</td>\n",
       "      <td>2.618066e+06</td>\n",
       "      <td>2.734263e+06</td>\n",
       "      <td>2.555848e+06</td>\n",
       "      <td>2.680935e+06</td>\n",
       "      <td>2.680935e+06</td>\n",
       "      <td>3.623730e+12</td>\n",
       "    </tr>\n",
       "    <tr>\n",
       "      <th>364</th>\n",
       "      <td>19-01-2021</td>\n",
       "      <td>2.681825e+06</td>\n",
       "      <td>2.762476e+06</td>\n",
       "      <td>2.640030e+06</td>\n",
       "      <td>2.640030e+06</td>\n",
       "      <td>2.640030e+06</td>\n",
       "      <td>4.189830e+12</td>\n",
       "    </tr>\n",
       "  </tbody>\n",
       "</table>\n",
       "<p>365 rows × 7 columns</p>\n",
       "</div>"
      ],
      "text/plain": [
       "           Date          Open          High           Low         Close  \\\n",
       "0    21-01-2020  6.151218e+05  6.232312e+05  6.081990e+05  6.225328e+05   \n",
       "1    22-01-2020  6.224129e+05  6.252662e+05  6.141556e+05  6.172936e+05   \n",
       "2    23-01-2020  6.172776e+05  6.197056e+05  5.944466e+05  5.996451e+05   \n",
       "3    24-01-2020  5.995774e+05  6.073129e+05  5.896366e+05  6.023748e+05   \n",
       "4    25-01-2020  6.019958e+05  6.033034e+05  5.917320e+05  5.968409e+05   \n",
       "..          ...           ...           ...           ...           ...   \n",
       "360  15-01-2021  2.861984e+06  2.891636e+06  2.536070e+06  2.694199e+06   \n",
       "361  16-01-2021  2.693927e+06  2.770214e+06  2.605900e+06  2.645726e+06   \n",
       "362  17-01-2021  2.644666e+06  2.686699e+06  2.492597e+06  2.617996e+06   \n",
       "363  18-01-2021  2.618066e+06  2.734263e+06  2.555848e+06  2.680935e+06   \n",
       "364  19-01-2021  2.681825e+06  2.762476e+06  2.640030e+06  2.640030e+06   \n",
       "\n",
       "        Adj Close        Volume  \n",
       "0    6.225328e+05  1.715250e+12  \n",
       "1    6.172936e+05  1.607090e+12  \n",
       "2    5.996451e+05  1.838250e+12  \n",
       "3    6.023748e+05  1.740190e+12  \n",
       "4    5.968409e+05  1.401360e+12  \n",
       "..            ...           ...  \n",
       "360  2.694199e+06  4.957480e+12  \n",
       "361  2.645726e+06  4.220080e+12  \n",
       "362  2.617996e+06  3.829920e+12  \n",
       "363  2.680935e+06  3.623730e+12  \n",
       "364  2.640030e+06  4.189830e+12  \n",
       "\n",
       "[365 rows x 7 columns]"
      ]
     },
     "execution_count": 4,
     "metadata": {},
     "output_type": "execute_result"
    }
   ],
   "source": [
    "df.dropna(inplace = True)\n",
    "df"
   ]
  },
  {
   "cell_type": "code",
   "execution_count": 5,
   "metadata": {},
   "outputs": [
    {
     "data": {
      "text/html": [
       "<div>\n",
       "<style scoped>\n",
       "    .dataframe tbody tr th:only-of-type {\n",
       "        vertical-align: middle;\n",
       "    }\n",
       "\n",
       "    .dataframe tbody tr th {\n",
       "        vertical-align: top;\n",
       "    }\n",
       "\n",
       "    .dataframe thead th {\n",
       "        text-align: right;\n",
       "    }\n",
       "</style>\n",
       "<table border=\"1\" class=\"dataframe\">\n",
       "  <thead>\n",
       "    <tr style=\"text-align: right;\">\n",
       "      <th></th>\n",
       "      <th>Date</th>\n",
       "      <th>Open</th>\n",
       "      <th>High</th>\n",
       "      <th>Low</th>\n",
       "      <th>Close</th>\n",
       "      <th>Volume</th>\n",
       "    </tr>\n",
       "  </thead>\n",
       "  <tbody>\n",
       "    <tr>\n",
       "      <th>0</th>\n",
       "      <td>21-01-2020</td>\n",
       "      <td>615121.7500</td>\n",
       "      <td>623231.1875</td>\n",
       "      <td>608199.0000</td>\n",
       "      <td>622532.8125</td>\n",
       "      <td>1.715250e+12</td>\n",
       "    </tr>\n",
       "    <tr>\n",
       "      <th>1</th>\n",
       "      <td>22-01-2020</td>\n",
       "      <td>622412.9375</td>\n",
       "      <td>625266.2500</td>\n",
       "      <td>614155.6250</td>\n",
       "      <td>617293.6250</td>\n",
       "      <td>1.607090e+12</td>\n",
       "    </tr>\n",
       "    <tr>\n",
       "      <th>2</th>\n",
       "      <td>23-01-2020</td>\n",
       "      <td>617277.5625</td>\n",
       "      <td>619705.5625</td>\n",
       "      <td>594446.6250</td>\n",
       "      <td>599645.0625</td>\n",
       "      <td>1.838250e+12</td>\n",
       "    </tr>\n",
       "    <tr>\n",
       "      <th>3</th>\n",
       "      <td>24-01-2020</td>\n",
       "      <td>599577.4375</td>\n",
       "      <td>607312.8750</td>\n",
       "      <td>589636.5625</td>\n",
       "      <td>602374.8125</td>\n",
       "      <td>1.740190e+12</td>\n",
       "    </tr>\n",
       "    <tr>\n",
       "      <th>4</th>\n",
       "      <td>25-01-2020</td>\n",
       "      <td>601995.7500</td>\n",
       "      <td>603303.3750</td>\n",
       "      <td>591732.0000</td>\n",
       "      <td>596840.9375</td>\n",
       "      <td>1.401360e+12</td>\n",
       "    </tr>\n",
       "  </tbody>\n",
       "</table>\n",
       "</div>"
      ],
      "text/plain": [
       "         Date         Open         High          Low        Close  \\\n",
       "0  21-01-2020  615121.7500  623231.1875  608199.0000  622532.8125   \n",
       "1  22-01-2020  622412.9375  625266.2500  614155.6250  617293.6250   \n",
       "2  23-01-2020  617277.5625  619705.5625  594446.6250  599645.0625   \n",
       "3  24-01-2020  599577.4375  607312.8750  589636.5625  602374.8125   \n",
       "4  25-01-2020  601995.7500  603303.3750  591732.0000  596840.9375   \n",
       "\n",
       "         Volume  \n",
       "0  1.715250e+12  \n",
       "1  1.607090e+12  \n",
       "2  1.838250e+12  \n",
       "3  1.740190e+12  \n",
       "4  1.401360e+12  "
      ]
     },
     "execution_count": 5,
     "metadata": {},
     "output_type": "execute_result"
    }
   ],
   "source": [
    "df.drop(\"Adj Close\",inplace = True,axis = 1)\n",
    "df.head()"
   ]
  },
  {
   "cell_type": "markdown",
   "metadata": {},
   "source": [
    "## Define X and Y"
   ]
  },
  {
   "cell_type": "code",
   "execution_count": 6,
   "metadata": {},
   "outputs": [],
   "source": [
    "x = df[[\"Open\",\"High\",\"Low\",\"Volume\"]].values\n",
    "y = df[\"Close\"].values"
   ]
  },
  {
   "cell_type": "markdown",
   "metadata": {},
   "source": [
    "# Split the dataset into two parts\n",
    "## 1. Traning Data\n",
    "## 2. Testing Data"
   ]
  },
  {
   "cell_type": "code",
   "execution_count": 7,
   "metadata": {},
   "outputs": [],
   "source": [
    "from sklearn.model_selection import train_test_split\n",
    "x_train,x_test,y_train,y_test = train_test_split(x,y,test_size = 0.2,random_state = 0)"
   ]
  },
  {
   "cell_type": "markdown",
   "metadata": {},
   "source": [
    "# Train the model using Traning Data"
   ]
  },
  {
   "cell_type": "code",
   "execution_count": 8,
   "metadata": {},
   "outputs": [
    {
     "data": {
      "text/plain": [
       "LinearRegression()"
      ]
     },
     "execution_count": 8,
     "metadata": {},
     "output_type": "execute_result"
    }
   ],
   "source": [
    "from sklearn import linear_model\n",
    "reg = linear_model.LinearRegression()\n",
    "reg.fit(x_train,y_train)"
   ]
  },
  {
   "cell_type": "markdown",
   "metadata": {},
   "source": [
    "# Predict the test using Testing Data"
   ]
  },
  {
   "cell_type": "code",
   "execution_count": 17,
   "metadata": {},
   "outputs": [],
   "source": [
    "predict = reg.predict(x_test)"
   ]
  },
  {
   "cell_type": "markdown",
   "metadata": {},
   "source": [
    "# Evaluate the model"
   ]
  },
  {
   "cell_type": "code",
   "execution_count": 10,
   "metadata": {},
   "outputs": [
    {
     "data": {
      "text/plain": [
       "0.9991902743505262"
      ]
     },
     "execution_count": 10,
     "metadata": {},
     "output_type": "execute_result"
    }
   ],
   "source": [
    "from sklearn.metrics import r2_score\n",
    "score = r2_score(y_test,predict)\n",
    "score"
   ]
  },
  {
   "cell_type": "markdown",
   "metadata": {},
   "source": [
    "# Difference between Actual and Predicted"
   ]
  },
  {
   "cell_type": "code",
   "execution_count": 11,
   "metadata": {},
   "outputs": [],
   "source": [
    "x = pd.DataFrame({\"Actual Price\":y_test,\"Predicted Price\":predict})"
   ]
  },
  {
   "cell_type": "code",
   "execution_count": 12,
   "metadata": {},
   "outputs": [
    {
     "data": {
      "text/html": [
       "<div>\n",
       "<style scoped>\n",
       "    .dataframe tbody tr th:only-of-type {\n",
       "        vertical-align: middle;\n",
       "    }\n",
       "\n",
       "    .dataframe tbody tr th {\n",
       "        vertical-align: top;\n",
       "    }\n",
       "\n",
       "    .dataframe thead th {\n",
       "        text-align: right;\n",
       "    }\n",
       "</style>\n",
       "<table border=\"1\" class=\"dataframe\">\n",
       "  <thead>\n",
       "    <tr style=\"text-align: right;\">\n",
       "      <th></th>\n",
       "      <th>Actual Price</th>\n",
       "      <th>Predicted Price</th>\n",
       "    </tr>\n",
       "  </thead>\n",
       "  <tbody>\n",
       "    <tr>\n",
       "      <th>0</th>\n",
       "      <td>7.065119e+05</td>\n",
       "      <td>7.039340e+05</td>\n",
       "    </tr>\n",
       "    <tr>\n",
       "      <th>1</th>\n",
       "      <td>7.819499e+05</td>\n",
       "      <td>7.815790e+05</td>\n",
       "    </tr>\n",
       "    <tr>\n",
       "      <th>2</th>\n",
       "      <td>6.750410e+05</td>\n",
       "      <td>6.684507e+05</td>\n",
       "    </tr>\n",
       "    <tr>\n",
       "      <th>3</th>\n",
       "      <td>7.105898e+05</td>\n",
       "      <td>7.050877e+05</td>\n",
       "    </tr>\n",
       "    <tr>\n",
       "      <th>4</th>\n",
       "      <td>5.571641e+05</td>\n",
       "      <td>5.501011e+05</td>\n",
       "    </tr>\n",
       "    <tr>\n",
       "      <th>5</th>\n",
       "      <td>2.147023e+06</td>\n",
       "      <td>2.137512e+06</td>\n",
       "    </tr>\n",
       "    <tr>\n",
       "      <th>6</th>\n",
       "      <td>5.271092e+05</td>\n",
       "      <td>5.361931e+05</td>\n",
       "    </tr>\n",
       "    <tr>\n",
       "      <th>7</th>\n",
       "      <td>1.264934e+06</td>\n",
       "      <td>1.257502e+06</td>\n",
       "    </tr>\n",
       "    <tr>\n",
       "      <th>8</th>\n",
       "      <td>8.072174e+05</td>\n",
       "      <td>8.059164e+05</td>\n",
       "    </tr>\n",
       "    <tr>\n",
       "      <th>9</th>\n",
       "      <td>6.366066e+05</td>\n",
       "      <td>6.371048e+05</td>\n",
       "    </tr>\n",
       "    <tr>\n",
       "      <th>10</th>\n",
       "      <td>7.193660e+05</td>\n",
       "      <td>7.252635e+05</td>\n",
       "    </tr>\n",
       "    <tr>\n",
       "      <th>11</th>\n",
       "      <td>7.469652e+05</td>\n",
       "      <td>7.431475e+05</td>\n",
       "    </tr>\n",
       "    <tr>\n",
       "      <th>12</th>\n",
       "      <td>8.241961e+05</td>\n",
       "      <td>8.301124e+05</td>\n",
       "    </tr>\n",
       "    <tr>\n",
       "      <th>13</th>\n",
       "      <td>1.008974e+06</td>\n",
       "      <td>1.007265e+06</td>\n",
       "    </tr>\n",
       "    <tr>\n",
       "      <th>14</th>\n",
       "      <td>1.189296e+06</td>\n",
       "      <td>1.186288e+06</td>\n",
       "    </tr>\n",
       "    <tr>\n",
       "      <th>15</th>\n",
       "      <td>8.942660e+05</td>\n",
       "      <td>9.064439e+05</td>\n",
       "    </tr>\n",
       "    <tr>\n",
       "      <th>16</th>\n",
       "      <td>1.135889e+06</td>\n",
       "      <td>1.134562e+06</td>\n",
       "    </tr>\n",
       "    <tr>\n",
       "      <th>17</th>\n",
       "      <td>6.724724e+05</td>\n",
       "      <td>6.743286e+05</td>\n",
       "    </tr>\n",
       "    <tr>\n",
       "      <th>18</th>\n",
       "      <td>8.414798e+05</td>\n",
       "      <td>8.425520e+05</td>\n",
       "    </tr>\n",
       "    <tr>\n",
       "      <th>19</th>\n",
       "      <td>7.396748e+05</td>\n",
       "      <td>7.352449e+05</td>\n",
       "    </tr>\n",
       "  </tbody>\n",
       "</table>\n",
       "</div>"
      ],
      "text/plain": [
       "    Actual Price  Predicted Price\n",
       "0   7.065119e+05     7.039340e+05\n",
       "1   7.819499e+05     7.815790e+05\n",
       "2   6.750410e+05     6.684507e+05\n",
       "3   7.105898e+05     7.050877e+05\n",
       "4   5.571641e+05     5.501011e+05\n",
       "5   2.147023e+06     2.137512e+06\n",
       "6   5.271092e+05     5.361931e+05\n",
       "7   1.264934e+06     1.257502e+06\n",
       "8   8.072174e+05     8.059164e+05\n",
       "9   6.366066e+05     6.371048e+05\n",
       "10  7.193660e+05     7.252635e+05\n",
       "11  7.469652e+05     7.431475e+05\n",
       "12  8.241961e+05     8.301124e+05\n",
       "13  1.008974e+06     1.007265e+06\n",
       "14  1.189296e+06     1.186288e+06\n",
       "15  8.942660e+05     9.064439e+05\n",
       "16  1.135889e+06     1.134562e+06\n",
       "17  6.724724e+05     6.743286e+05\n",
       "18  8.414798e+05     8.425520e+05\n",
       "19  7.396748e+05     7.352449e+05"
      ]
     },
     "execution_count": 12,
     "metadata": {},
     "output_type": "execute_result"
    }
   ],
   "source": [
    "x.head(20)"
   ]
  },
  {
   "cell_type": "code",
   "execution_count": 13,
   "metadata": {},
   "outputs": [],
   "source": [
    "graph = x.head(20)"
   ]
  },
  {
   "cell_type": "code",
   "execution_count": 14,
   "metadata": {},
   "outputs": [
    {
     "data": {
      "text/plain": [
       "<AxesSubplot:>"
      ]
     },
     "execution_count": 14,
     "metadata": {},
     "output_type": "execute_result"
    },
    {
     "data": {
      "image/png": "[encoded data removed]",
      "text/plain": [
       "<Figure size 1152x432 with 1 Axes>"
      ]
     },
     "metadata": {
      "needs_background": "light"
     },
     "output_type": "display_data"
    }
   ],
   "source": [
    "graph.plot(kind = \"bar\",figsize = (16,6))"
   ]
  },
  {
   "cell_type": "code",
   "execution_count": null,
   "metadata": {},
   "outputs": [],
   "source": []
  }
 ],
 "metadata": {
  "kernelspec": {
   "display_name": "Python 3",
   "language": "python",
   "name": "python3"
  },
  "language_info": {
   "codemirror_mode": {
    "name": "ipython",
    "version": 3
   },
   "file_extension": ".py",
   "mimetype": "text/x-python",
   "name": "python",
   "nbconvert_exporter": "python",
   "pygments_lexer": "ipython3",
   "version": "3.8.5"
  }
 },
 "nbformat": 4,
 "nbformat_minor": 4
}
